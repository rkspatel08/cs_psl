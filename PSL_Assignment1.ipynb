{
  "nbformat": 4,
  "nbformat_minor": 0,
  "metadata": {
    "colab": {
      "provenance": [],
      "authorship_tag": "ABX9TyN6stDhtDLti8zXL2TGktgj",
      "include_colab_link": true
    },
    "kernelspec": {
      "name": "python3",
      "display_name": "Python 3"
    },
    "language_info": {
      "name": "python"
    }
  },
  "cells": [
    {
      "cell_type": "markdown",
      "metadata": {
        "id": "view-in-github",
        "colab_type": "text"
      },
      "source": [
        "<a href=\"https://colab.research.google.com/github/rkspatel08/cs_psl/blob/main/PSL_Assignment1.ipynb\" target=\"_parent\"><img src=\"https://colab.research.google.com/assets/colab-badge.svg\" alt=\"Open In Colab\"/></a>"
      ]
    },
    {
      "cell_type": "markdown",
      "source": [
        "**PSL - Assignment 1 Submission**\n",
        "\n",
        "Author  : Rakesh Patel (rp22)\n",
        "\n",
        "Program : MCS-DS"
      ],
      "metadata": {
        "id": "wX0KOxtXdk3a"
      }
    },
    {
      "cell_type": "markdown",
      "source": [
        "**Part 1: Generate Data**"
      ],
      "metadata": {
        "id": "TRBBNswzdNZ1"
      }
    },
    {
      "cell_type": "code",
      "source": [
        "import numpy as np\n",
        "import matplotlib.pyplot as plt"
      ],
      "metadata": {
        "id": "bAzNK0azeXHy"
      },
      "execution_count": 64,
      "outputs": []
    },
    {
      "cell_type": "code",
      "source": [
        "np.random.seed(3578);     # setting seed to last 4 of UIN"
      ],
      "metadata": {
        "id": "KCVlJrrPctlf"
      },
      "execution_count": 65,
      "outputs": []
    },
    {
      "cell_type": "markdown",
      "source": [
        "Generate the 20 centers, 10 for each group."
      ],
      "metadata": {
        "id": "9kXT1pOAgibr"
      }
    },
    {
      "cell_type": "code",
      "source": [
        "csize = 10\n",
        "p = 2\n",
        "s = 1;      # sd for generating the centers within each class\n",
        "m1 = np.random.normal(size = (csize, p)) * s \\\n",
        "     + np.concatenate([np.array([[1, 0]] * csize)])\n",
        "m0 = np.random.normal(size = (csize, p)) * s \\\n",
        "     + np.concatenate([np.array([[0, 1]] * csize)])"
      ],
      "metadata": {
        "id": "1camkP6eqEKX"
      },
      "execution_count": 66,
      "outputs": []
    },
    {
      "cell_type": "markdown",
      "source": [
        "Generate a Training Sample of size 200 (100 from each class)"
      ],
      "metadata": {
        "id": "wTNhFtuOpRty"
      }
    },
    {
      "cell_type": "code",
      "source": [
        "n = 100\n",
        "# Randomly allocate the n samples for class 1  to the 10 clusters\n",
        "id1 = np.random.randint(csize, size = n)\n",
        "id0 = np.random.randint(csize, size = n)\n",
        "\n",
        "# sd for generating data\n",
        "s = np.sqrt(float(1)/5)\n",
        "\n",
        "traindata = np.random.normal(size = (2 * n, p)) * s \\\n",
        "            + np.concatenate([m1[id1,:], m0[id0,:]])\n",
        "ytrain = np.concatenate(([1]*n, [0]*n))\n"
      ],
      "metadata": {
        "id": "-WotnsnFpbNk"
      },
      "execution_count": 67,
      "outputs": []
    },
    {
      "cell_type": "markdown",
      "source": [
        "Generate Test Sample of size 10,000 (5,000 from each class)."
      ],
      "metadata": {
        "id": "49okKmDApzsN"
      }
    },
    {
      "cell_type": "code",
      "source": [
        "n_test = 5000\n",
        "# Randomly allocate the n samples for class 1  to the 10 clusters\n",
        "id1_test = np.random.randint(csize, size = n_test)\n",
        "id0_test = np.random.randint(csize, size = n_test)\n",
        "\n",
        "# sd for generating data\n",
        "s = np.sqrt(float(1)/5)\n",
        "\n",
        "testdata = np.random.normal(size = (2 * n_test, p)) * s \\\n",
        "            + np.concatenate([m1[id1_test,:], m0[id0_test,:]])\n",
        "ytest = np.concatenate(([1]*n_test, [0]*n_test))\n"
      ],
      "metadata": {
        "id": "hLe47P4ap4nG"
      },
      "execution_count": 68,
      "outputs": []
    },
    {
      "cell_type": "markdown",
      "source": [
        "Scatter plot of the training data"
      ],
      "metadata": {
        "id": "MvejGJHprPCG"
      }
    },
    {
      "cell_type": "code",
      "source": [
        "#plotting training data with two classes\n",
        "plt.scatter(traindata[:n, 0], traindata[:n, 1], c = \"blue\", alpha=0.2, label='Class 1')\n",
        "plt.scatter(traindata[n:, 0], traindata[n:, 1], c = \"red\", alpha=0.2, label='Class 0')\n",
        "\n",
        "#plotting centers\n",
        "plt.scatter(m1[:,0], m1[:,1], marker = '+', s = 100, c = \"blue\")\n",
        "plt.scatter(m0[:,0], m0[:,1], marker = '+', s = 100, c = \"red\")\n",
        "\n",
        "plt.legend()\n",
        "plt.show()"
      ],
      "metadata": {
        "id": "txa-Fc07qPy0",
        "outputId": "c3bfce88-5eb3-4da1-cf4b-7621daebe4c9",
        "colab": {
          "base_uri": "https://localhost:8080/",
          "height": 430
        }
      },
      "execution_count": 75,
      "outputs": [
        {
          "output_type": "display_data",
          "data": {
            "text/plain": [
              "<Figure size 640x480 with 1 Axes>"
            ],
            "image/png": "[encoded data removed]"
          },
          "metadata": {}
        }
      ]
    },
    {
      "cell_type": "markdown",
      "source": [],
      "metadata": {
        "id": "yv0EINhHdL3a"
      }
    },
    {
      "cell_type": "markdown",
      "source": [],
      "metadata": {
        "id": "qzMqFysrdMjK"
      }
    }
  ]
}